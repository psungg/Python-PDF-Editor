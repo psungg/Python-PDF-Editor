{
 "cells": [
  {
   "cell_type": "markdown",
   "id": "81fa24ca",
   "metadata": {},
   "source": [
    "# PDF Editor"
   ]
  },
  {
   "cell_type": "markdown",
   "id": "4e52e8d5",
   "metadata": {},
   "source": [
    "PyPDF4 Library\n",
    "\n",
    "To create a PdfFileReader object\n",
    "\n",
    "PyPDF4.PdfFileReader(PDFFileName)\n",
    "\n",
    "eg.\n",
    "pdfReader = PyPDF.PdfFileReader(PdfFileName)\n",
    "\n",
    "\n",
    "PdfFileReader Main Method\n",
    "\n",
    "getnumPages() #### to calculate pages in pdf\n",
    "\n",
    "eg.\n",
    "totalPages = pdfReader.getNumPages()\n",
    "\n",
    "getPage() #### to retrive a page object by number\n",
    "\n",
    "eg.\n",
    "currentPage = pdfReader.getPage(0)\n"
   ]
  },
  {
   "cell_type": "markdown",
   "id": "1c7060a8",
   "metadata": {},
   "source": [
    "To create a PdfFileWriter object\n",
    "\n",
    "PyPDF4.PdfFileWriter()\n",
    "\n",
    "Main Method\n",
    "\n",
    "addPage(page) #### to add a page to the PDF File\n",
    "\n",
    "eg.\n",
    "pdfWriter.addPage(pageObject)\n",
    "\n",
    "write(fileObject) #### to write a collection of pages added to PdfFileWriter object out as a new PDF File\n",
    "\n",
    "eg.\n",
    "pdfWriter.write(newFile)"
   ]
  },
  {
   "cell_type": "markdown",
   "id": "bc289327",
   "metadata": {},
   "source": [
    "To create PdfFileMerger object\n",
    "\n",
    "PyPDF4.PdfFileMerger()\n",
    "\n",
    "Main Method\n",
    "\n",
    "eg.\n",
    "pdfMerger = PyPDF4.PdfFileMerger()\n",
    "\n",
    "append(fileObject) #### to concatenate all pages onto the end of the file\n",
    "\n",
    "eg.\n",
    "pdfMerger.append(pdfFile)\n",
    "\n",
    "write() #### to write all data that has been merged to a given output file\n",
    "\n",
    "eg.\n",
    "pdfMerger.write(outputFile)"
   ]
  },
  {
   "cell_type": "code",
   "execution_count": 20,
   "id": "7569cee9",
   "metadata": {},
   "outputs": [
    {
     "name": "stdout",
     "output_type": "stream",
     "text": [
      "Requirement already satisfied: PyPDF4 in c:\\users\\psungg\\anaconda3\\lib\\site-packages (1.27.0)\n",
      "Note: you may need to restart the kernel to use updated packages.\n"
     ]
    }
   ],
   "source": [
    "pip install PyPDF4"
   ]
  },
  {
   "cell_type": "markdown",
   "id": "5c490be6",
   "metadata": {},
   "source": [
    "# PDF File Rotation"
   ]
  },
  {
   "cell_type": "markdown",
   "id": "6f3625dc",
   "metadata": {},
   "source": [
    "1. Create PdfFileReader and PdfFileWriter Object\n",
    "2. Read through each page of the original PDF File and rotate it regard to the specific degree\n",
    "3. Add each rotated page to the PdfFileWriter Object\n",
    "4. Write all data from PdfFileWriter to a new PDF File"
   ]
  },
  {
   "cell_type": "code",
   "execution_count": 1,
   "id": "19b5ef99",
   "metadata": {},
   "outputs": [
    {
     "name": "stdout",
     "output_type": "stream",
     "text": [
      "Done!\n"
     ]
    }
   ],
   "source": [
    "import PyPDF4\n",
    "\n",
    "def PDFRotation(originalFileName, newFileName, rotateAngle):\n",
    "    pdfReader = PyPDF4.PdfFileReader(originalFileName)\n",
    "    pdfWriter = PyPDF4.PdfFileWriter()\n",
    "    \n",
    "    for page in range(pdfReader.getNumPages()):\n",
    "        pageObject = pdfReader.getPage(page)\n",
    "        pageObject.rotateClockwise(rotateAngle)\n",
    "        \n",
    "        pdfWriter.addPage(pageObject)\n",
    "    newFile = open(newFileName, \"wb\")\n",
    "    pdfWriter.write(newFile)\n",
    "    newFile.close()\n",
    "    print(\"Done!\")\n",
    "\n",
    "originalFileName = \"Sample.pdf\"\n",
    "newFileName = \"RotatedSample.pdf\"\n",
    "rotateAngle = 270\n",
    "PDFRotation(originalFileName, newFileName, rotateAngle)"
   ]
  },
  {
   "cell_type": "markdown",
   "id": "663155d9",
   "metadata": {},
   "source": [
    "# PDF File Merging"
   ]
  },
  {
   "cell_type": "markdown",
   "id": "b5a1e6d9",
   "metadata": {},
   "source": [
    "1. Specify PDF files (2 and above) for merging\n",
    "2. Create PdfFileMerger Object\n",
    "3. Read through each PDF files and merge all files together\n",
    "4. Write all data from PdfFileMerger object to a new PDF File"
   ]
  },
  {
   "cell_type": "code",
   "execution_count": 2,
   "id": "bd8f3912",
   "metadata": {},
   "outputs": [
    {
     "name": "stdout",
     "output_type": "stream",
     "text": [
      "Done!\n"
     ]
    }
   ],
   "source": [
    "import PyPDF4\n",
    "\n",
    "def PDFMerger(pdfs, outputFileName):\n",
    "    pdfMerger = PyPDF4.PdfFileMerger()\n",
    "    for pdf in pdfs:\n",
    "        pdfMerger.append(pdf)\n",
    "    newFile = open(outputFileName, 'wb')\n",
    "    pdfMerger.write(newFile)\n",
    "    newFile.close()\n",
    "    print(\"Done!\")\n",
    "    \n",
    "pdfs = [\"Sample.pdf\",\"RotatedSample.pdf\"]\n",
    "outputFileName = \"CombineSamples.pdf\"\n",
    "PDFMerger(pdfs, outputFileName)"
   ]
  },
  {
   "cell_type": "markdown",
   "id": "84d86c95",
   "metadata": {},
   "source": [
    "# PDF File Splitting"
   ]
  },
  {
   "cell_type": "markdown",
   "id": "2d54fe2c",
   "metadata": {},
   "source": [
    "1. Specify splitting position e.g [2,5,10]\n",
    "2. Initialize the start and end page\n",
    "3. For each spliting position\n",
    "\n",
    "    A. Create a PdfFileReader\n",
    "    \n",
    "    B. Create a PdfFileWriter\n",
    "    \n",
    "    C. Add the start to end pages to the PdfFileWriter Object\n",
    "    \n",
    "    D. Write all data from PdfFileMerger object to a new PDF File (for each splitting position)\n",
    "    \n",
    "    E. Indicate the new start and end page from the splitting position list"
   ]
  },
  {
   "cell_type": "code",
   "execution_count": 3,
   "id": "21c1e332",
   "metadata": {},
   "outputs": [
    {
     "name": "stdout",
     "output_type": "stream",
     "text": [
      "Done!\n",
      "Done!\n",
      "Done!\n"
     ]
    }
   ],
   "source": [
    "import PyPDF4\n",
    "\n",
    "def PDFSplitting(originalFileName, splitPosition):\n",
    "    start = 0\n",
    "    end = splitPosition[0]\n",
    "    for i in range(len(splitPosition)+1): #### must + 1 because code start from 0\n",
    "        pdfReader = PyPDF4.PdfFileReader(originalFileName)\n",
    "        pdfWriter = PyPDF4.PdfFileWriter()\n",
    "        \n",
    "        for page in range(start,end):\n",
    "            pdfWriter.addPage(pdfReader.getPage(page))\n",
    "        outputPdf = \"SplittedFile\"+str(i+1)+\".pdf\"\n",
    "    \n",
    "        newFile = open(outputPdf, 'wb')\n",
    "        pdfWriter.write(newFile)\n",
    "        newFile.close()\n",
    "    \n",
    "        start = end #### start from last end\n",
    "    \n",
    "        try:\n",
    "            end = splitPosition[i+1] #### check if there any next index left\n",
    "        except IndexError:\n",
    "            end = pdfReader.getNumPages()\n",
    "        print(\"Done!\")\n",
    "\n",
    "originalFileName = \"CombineSamples.pdf\"\n",
    "splitPosition = [2,5] #1st file: 1-2, 2nd file: 3-5, 3rd: 6+\n",
    "PDFSplitting(originalFileName, splitPosition)"
   ]
  },
  {
   "cell_type": "markdown",
   "id": "8968cbfc",
   "metadata": {},
   "source": [
    "# PDF Watermark"
   ]
  },
  {
   "cell_type": "markdown",
   "id": "d86a30eb",
   "metadata": {},
   "source": [
    "1. Specify the original PDF file and Watermark file\n",
    "2. Create a PdfFile Reader object for original PDF file\n",
    "3. Create a PdfFileReader object for watermark file and get the page object\n",
    "4. Create a PdfFileWriter object\n",
    "5. For each page of the original PDF file\n",
    "    \n",
    "    A. Merge the watermark object to each page\n",
    "    \n",
    "    B. Add each watermarked page to the PdfFile Writer Object\n",
    "    \n",
    "    C. Write all data from PdfFileWriter object to a new PDF File (watermarked)"
   ]
  },
  {
   "cell_type": "code",
   "execution_count": 4,
   "id": "a0db1e94",
   "metadata": {},
   "outputs": [
    {
     "name": "stderr",
     "output_type": "stream",
     "text": [
      "PdfReadWarning: Xref table not zero-indexed. ID numbers for objects will be corrected. [pdf.py:1801]\n"
     ]
    },
    {
     "name": "stdout",
     "output_type": "stream",
     "text": [
      "Done!\n"
     ]
    }
   ],
   "source": [
    "import PyPDF4\n",
    "\n",
    "def watermarkMaking(originalFileName, outputFileName, WatermarkFileName):\n",
    "    pdfReader = PyPDF4.PdfFileReader(originalFileName)\n",
    "    watermarkReader = PyPDF4.PdfFileReader(watermarkFileName)\n",
    "    mergePDF = PyPDF4.PdfFileWriter()\n",
    "    \n",
    "    watermark = watermarkReader.getPage(0)\n",
    "    \n",
    "    for page in range(pdfReader.getNumPages()):\n",
    "        currentPage = pdfReader.getPage(page)\n",
    "        currentPage.mergePage(watermark)\n",
    "        \n",
    "        mergePDF.addPage(currentPage)\n",
    "        \n",
    "    newFile = open(outputFileName, 'wb')\n",
    "    mergePDF.write(newFile)\n",
    "    newFile.close()\n",
    "    print (\"Done!\")\n",
    "    \n",
    "\n",
    "originalFileName = \"WatermarkTest.pdf\"\n",
    "outputFileName = \"WatermarkPortfolio.pdf\"\n",
    "watermarkFileName = \"WatermarkLogo.pdf\"\n",
    "watermarkMaking(originalFileName, outputFileName, watermarkFileName)"
   ]
  },
  {
   "cell_type": "code",
   "execution_count": null,
   "id": "ee62ac2b",
   "metadata": {},
   "outputs": [],
   "source": []
  }
 ],
 "metadata": {
  "kernelspec": {
   "display_name": "Python 3 (ipykernel)",
   "language": "python",
   "name": "python3"
  },
  "language_info": {
   "codemirror_mode": {
    "name": "ipython",
    "version": 3
   },
   "file_extension": ".py",
   "mimetype": "text/x-python",
   "name": "python",
   "nbconvert_exporter": "python",
   "pygments_lexer": "ipython3",
   "version": "3.11.3"
  }
 },
 "nbformat": 4,
 "nbformat_minor": 5
}
